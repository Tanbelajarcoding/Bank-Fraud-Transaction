{
  "nbformat": 4,
  "nbformat_minor": 0,
  "metadata": {
    "colab": {
      "provenance": []
    },
    "kernelspec": {
      "name": "python3",
      "display_name": "Python 3"
    },
    "language_info": {
      "name": "python"
    }
  },
  "cells": [
    {
      "cell_type": "markdown",
      "source": [
        "# **Penting**\n",
        "- Pastikan Anda melakukan Run All sebelum mengirimkan submission untuk memastikan seluruh cell berjalan dengan baik.\n",
        "- Hapus simbol pagar (#) jika Anda menerapkan kriteria tambahan\n",
        "- Biarkan simbol pagar (#) jika Anda tidak menerapkan kriteria tambahan"
      ],
      "metadata": {
        "id": "0tvAKGat01Sd"
      }
    },
    {
      "cell_type": "markdown",
      "source": [
        "# **1. Import Library**\n",
        "Pada tahap ini, Anda perlu mengimpor beberapa pustaka (library) Python yang dibutuhkan untuk analisis data dan pembangunan model machine learning."
      ],
      "metadata": {
        "id": "fKADPWcFKlj3"
      }
    },
    {
      "cell_type": "code",
      "source": [
        "import pandas as pd\n",
        "import numpy as np\n",
        "import seaborn as sns\n",
        "import matplotlib.pyplot as plt\n",
        "\n",
        "from sklearn.model_selection import train_test_split\n",
        "from sklearn.preprocessing import MinMaxScaler\n",
        "from sklearn.preprocessing import LabelEncoder\n",
        "from sklearn.tree import DecisionTreeClassifier\n",
        "from sklearn.ensemble import RandomForestClassifier\n",
        "from sklearn.model_selection import GridSearchCV\n",
        "from sklearn.metrics import confusion_matrix, accuracy_score, precision_score, recall_score, f1_score, classification_report"
      ],
      "metadata": {
        "id": "BlmvjLY9M4Yj"
      },
      "execution_count": 1,
      "outputs": []
    },
    {
      "cell_type": "markdown",
      "source": [
        "Saya mulai dengan mengimpor library-library yang diperlukan: pandas dan numpy untuk manipulasi data, seaborn dan matplotlib untuk visualisasi, serta berbagai modul dari sklearn untuk tugas-tugas machine learning seperti pembagian data, pra-pemrosesan, pemodelan dengan Decision Tree dan Random Forest, hyperparameter tuning, dan evaluasi performa model."
      ],
      "metadata": {
        "id": "ZBDrvQm2f91O"
      }
    },
    {
      "cell_type": "markdown",
      "source": [
        "# **2. Memuat Dataset dari Hasil Clustering**\n",
        "Memuat dataset hasil clustering dari file CSV ke dalam variabel DataFrame."
      ],
      "metadata": {
        "id": "f3YIEnAFKrKL"
      }
    },
    {
      "cell_type": "code",
      "source": [
        "df = pd.read_csv('/content/data_clustering_inverse.csv')\n",
        "df"
      ],
      "metadata": {
        "id": "GHCGNTyrM5fS",
        "colab": {
          "base_uri": "https://localhost:8080/",
          "height": 424
        },
        "outputId": "86541f47-ee01-40a4-f624-fa695c3adbca"
      },
      "execution_count": 2,
      "outputs": [
        {
          "output_type": "execute_result",
          "data": {
            "text/plain": [
              "     TransactionAmount TransactionType Channel CustomerOccupation  \\\n",
              "0         Sangat Kecil           Debit     ATM             Doctor   \n",
              "1                Besar           Debit     ATM             Doctor   \n",
              "2                Kecil           Debit  Online            Student   \n",
              "3               Sedang           Debit  Online            Student   \n",
              "4                Kecil           Debit     ATM            Student   \n",
              "...                ...             ...     ...                ...   \n",
              "2313            Sedang           Debit  Branch             Doctor   \n",
              "2314      Sangat Kecil           Debit  Branch            Retired   \n",
              "2315            Sedang           Debit  Online            Student   \n",
              "2316            Sedang          Credit  Online            Student   \n",
              "2317      Sangat Kecil           Debit  Branch            Retired   \n",
              "\n",
              "       CustomerAge  TransactionDuration  LoginAttempts  AccountBalance  Target  \n",
              "0     23108.623090        412453.106776       2.108105    7.768070e+10       4  \n",
              "1     22472.352259        711623.377281       2.108105    2.090349e+11       0  \n",
              "2      6883.716893        287798.827398       2.108105    1.706971e+10       1  \n",
              "3      9110.664802        133227.520970       2.108105    1.301946e+11       5  \n",
              "4      6565.581477        866194.683709       2.108105    1.189450e+10       1  \n",
              "...            ...                  ...            ...             ...     ...  \n",
              "2313  16109.643946        891125.539585       2.108105    3.889773e+09       4  \n",
              "2314  18654.727271        736554.233157       2.108105    5.141046e+10       4  \n",
              "2315   8156.258555        103310.493920       2.108105    2.701330e+10       5  \n",
              "2316   8474.393971        472287.160877       2.108105    2.013652e+09       5  \n",
              "2317  25017.435584        392508.422075       2.108105    7.459733e+10       4  \n",
              "\n",
              "[2318 rows x 9 columns]"
            ],
            "text/html": [
              "\n",
              "  <div id=\"df-f43bc2c8-634e-4d1a-97fc-cee3ace6e86c\" class=\"colab-df-container\">\n",
              "    <div>\n",
              "<style scoped>\n",
              "    .dataframe tbody tr th:only-of-type {\n",
              "        vertical-align: middle;\n",
              "    }\n",
              "\n",
              "    .dataframe tbody tr th {\n",
              "        vertical-align: top;\n",
              "    }\n",
              "\n",
              "    .dataframe thead th {\n",
              "        text-align: right;\n",
              "    }\n",
              "</style>\n",
              "<table border=\"1\" class=\"dataframe\">\n",
              "  <thead>\n",
              "    <tr style=\"text-align: right;\">\n",
              "      <th></th>\n",
              "      <th>TransactionAmount</th>\n",
              "      <th>TransactionType</th>\n",
              "      <th>Channel</th>\n",
              "      <th>CustomerOccupation</th>\n",
              "      <th>CustomerAge</th>\n",
              "      <th>TransactionDuration</th>\n",
              "      <th>LoginAttempts</th>\n",
              "      <th>AccountBalance</th>\n",
              "      <th>Target</th>\n",
              "    </tr>\n",
              "  </thead>\n",
              "  <tbody>\n",
              "    <tr>\n",
              "      <th>0</th>\n",
              "      <td>Sangat Kecil</td>\n",
              "      <td>Debit</td>\n",
              "      <td>ATM</td>\n",
              "      <td>Doctor</td>\n",
              "      <td>23108.623090</td>\n",
              "      <td>412453.106776</td>\n",
              "      <td>2.108105</td>\n",
              "      <td>7.768070e+10</td>\n",
              "      <td>4</td>\n",
              "    </tr>\n",
              "    <tr>\n",
              "      <th>1</th>\n",
              "      <td>Besar</td>\n",
              "      <td>Debit</td>\n",
              "      <td>ATM</td>\n",
              "      <td>Doctor</td>\n",
              "      <td>22472.352259</td>\n",
              "      <td>711623.377281</td>\n",
              "      <td>2.108105</td>\n",
              "      <td>2.090349e+11</td>\n",
              "      <td>0</td>\n",
              "    </tr>\n",
              "    <tr>\n",
              "      <th>2</th>\n",
              "      <td>Kecil</td>\n",
              "      <td>Debit</td>\n",
              "      <td>Online</td>\n",
              "      <td>Student</td>\n",
              "      <td>6883.716893</td>\n",
              "      <td>287798.827398</td>\n",
              "      <td>2.108105</td>\n",
              "      <td>1.706971e+10</td>\n",
              "      <td>1</td>\n",
              "    </tr>\n",
              "    <tr>\n",
              "      <th>3</th>\n",
              "      <td>Sedang</td>\n",
              "      <td>Debit</td>\n",
              "      <td>Online</td>\n",
              "      <td>Student</td>\n",
              "      <td>9110.664802</td>\n",
              "      <td>133227.520970</td>\n",
              "      <td>2.108105</td>\n",
              "      <td>1.301946e+11</td>\n",
              "      <td>5</td>\n",
              "    </tr>\n",
              "    <tr>\n",
              "      <th>4</th>\n",
              "      <td>Kecil</td>\n",
              "      <td>Debit</td>\n",
              "      <td>ATM</td>\n",
              "      <td>Student</td>\n",
              "      <td>6565.581477</td>\n",
              "      <td>866194.683709</td>\n",
              "      <td>2.108105</td>\n",
              "      <td>1.189450e+10</td>\n",
              "      <td>1</td>\n",
              "    </tr>\n",
              "    <tr>\n",
              "      <th>...</th>\n",
              "      <td>...</td>\n",
              "      <td>...</td>\n",
              "      <td>...</td>\n",
              "      <td>...</td>\n",
              "      <td>...</td>\n",
              "      <td>...</td>\n",
              "      <td>...</td>\n",
              "      <td>...</td>\n",
              "      <td>...</td>\n",
              "    </tr>\n",
              "    <tr>\n",
              "      <th>2313</th>\n",
              "      <td>Sedang</td>\n",
              "      <td>Debit</td>\n",
              "      <td>Branch</td>\n",
              "      <td>Doctor</td>\n",
              "      <td>16109.643946</td>\n",
              "      <td>891125.539585</td>\n",
              "      <td>2.108105</td>\n",
              "      <td>3.889773e+09</td>\n",
              "      <td>4</td>\n",
              "    </tr>\n",
              "    <tr>\n",
              "      <th>2314</th>\n",
              "      <td>Sangat Kecil</td>\n",
              "      <td>Debit</td>\n",
              "      <td>Branch</td>\n",
              "      <td>Retired</td>\n",
              "      <td>18654.727271</td>\n",
              "      <td>736554.233157</td>\n",
              "      <td>2.108105</td>\n",
              "      <td>5.141046e+10</td>\n",
              "      <td>4</td>\n",
              "    </tr>\n",
              "    <tr>\n",
              "      <th>2315</th>\n",
              "      <td>Sedang</td>\n",
              "      <td>Debit</td>\n",
              "      <td>Online</td>\n",
              "      <td>Student</td>\n",
              "      <td>8156.258555</td>\n",
              "      <td>103310.493920</td>\n",
              "      <td>2.108105</td>\n",
              "      <td>2.701330e+10</td>\n",
              "      <td>5</td>\n",
              "    </tr>\n",
              "    <tr>\n",
              "      <th>2316</th>\n",
              "      <td>Sedang</td>\n",
              "      <td>Credit</td>\n",
              "      <td>Online</td>\n",
              "      <td>Student</td>\n",
              "      <td>8474.393971</td>\n",
              "      <td>472287.160877</td>\n",
              "      <td>2.108105</td>\n",
              "      <td>2.013652e+09</td>\n",
              "      <td>5</td>\n",
              "    </tr>\n",
              "    <tr>\n",
              "      <th>2317</th>\n",
              "      <td>Sangat Kecil</td>\n",
              "      <td>Debit</td>\n",
              "      <td>Branch</td>\n",
              "      <td>Retired</td>\n",
              "      <td>25017.435584</td>\n",
              "      <td>392508.422075</td>\n",
              "      <td>2.108105</td>\n",
              "      <td>7.459733e+10</td>\n",
              "      <td>4</td>\n",
              "    </tr>\n",
              "  </tbody>\n",
              "</table>\n",
              "<p>2318 rows × 9 columns</p>\n",
              "</div>\n",
              "    <div class=\"colab-df-buttons\">\n",
              "\n",
              "  <div class=\"colab-df-container\">\n",
              "    <button class=\"colab-df-convert\" onclick=\"convertToInteractive('df-f43bc2c8-634e-4d1a-97fc-cee3ace6e86c')\"\n",
              "            title=\"Convert this dataframe to an interactive table.\"\n",
              "            style=\"display:none;\">\n",
              "\n",
              "  <svg xmlns=\"http://www.w3.org/2000/svg\" height=\"24px\" viewBox=\"0 -960 960 960\">\n",
              "    <path d=\"M120-120v-720h720v720H120Zm60-500h600v-160H180v160Zm220 220h160v-160H400v160Zm0 220h160v-160H400v160ZM180-400h160v-160H180v160Zm440 0h160v-160H620v160ZM180-180h160v-160H180v160Zm440 0h160v-160H620v160Z\"/>\n",
              "  </svg>\n",
              "    </button>\n",
              "\n",
              "  <style>\n",
              "    .colab-df-container {\n",
              "      display:flex;\n",
              "      gap: 12px;\n",
              "    }\n",
              "\n",
              "    .colab-df-convert {\n",
              "      background-color: #E8F0FE;\n",
              "      border: none;\n",
              "      border-radius: 50%;\n",
              "      cursor: pointer;\n",
              "      display: none;\n",
              "      fill: #1967D2;\n",
              "      height: 32px;\n",
              "      padding: 0 0 0 0;\n",
              "      width: 32px;\n",
              "    }\n",
              "\n",
              "    .colab-df-convert:hover {\n",
              "      background-color: #E2EBFA;\n",
              "      box-shadow: 0px 1px 2px rgba(60, 64, 67, 0.3), 0px 1px 3px 1px rgba(60, 64, 67, 0.15);\n",
              "      fill: #174EA6;\n",
              "    }\n",
              "\n",
              "    .colab-df-buttons div {\n",
              "      margin-bottom: 4px;\n",
              "    }\n",
              "\n",
              "    [theme=dark] .colab-df-convert {\n",
              "      background-color: #3B4455;\n",
              "      fill: #D2E3FC;\n",
              "    }\n",
              "\n",
              "    [theme=dark] .colab-df-convert:hover {\n",
              "      background-color: #434B5C;\n",
              "      box-shadow: 0px 1px 3px 1px rgba(0, 0, 0, 0.15);\n",
              "      filter: drop-shadow(0px 1px 2px rgba(0, 0, 0, 0.3));\n",
              "      fill: #FFFFFF;\n",
              "    }\n",
              "  </style>\n",
              "\n",
              "    <script>\n",
              "      const buttonEl =\n",
              "        document.querySelector('#df-f43bc2c8-634e-4d1a-97fc-cee3ace6e86c button.colab-df-convert');\n",
              "      buttonEl.style.display =\n",
              "        google.colab.kernel.accessAllowed ? 'block' : 'none';\n",
              "\n",
              "      async function convertToInteractive(key) {\n",
              "        const element = document.querySelector('#df-f43bc2c8-634e-4d1a-97fc-cee3ace6e86c');\n",
              "        const dataTable =\n",
              "          await google.colab.kernel.invokeFunction('convertToInteractive',\n",
              "                                                    [key], {});\n",
              "        if (!dataTable) return;\n",
              "\n",
              "        const docLinkHtml = 'Like what you see? Visit the ' +\n",
              "          '<a target=\"_blank\" href=https://colab.research.google.com/notebooks/data_table.ipynb>data table notebook</a>'\n",
              "          + ' to learn more about interactive tables.';\n",
              "        element.innerHTML = '';\n",
              "        dataTable['output_type'] = 'display_data';\n",
              "        await google.colab.output.renderOutput(dataTable, element);\n",
              "        const docLink = document.createElement('div');\n",
              "        docLink.innerHTML = docLinkHtml;\n",
              "        element.appendChild(docLink);\n",
              "      }\n",
              "    </script>\n",
              "  </div>\n",
              "\n",
              "\n",
              "    <div id=\"df-78d6669f-e892-46d9-ae15-53702f0ad826\">\n",
              "      <button class=\"colab-df-quickchart\" onclick=\"quickchart('df-78d6669f-e892-46d9-ae15-53702f0ad826')\"\n",
              "                title=\"Suggest charts\"\n",
              "                style=\"display:none;\">\n",
              "\n",
              "<svg xmlns=\"http://www.w3.org/2000/svg\" height=\"24px\"viewBox=\"0 0 24 24\"\n",
              "     width=\"24px\">\n",
              "    <g>\n",
              "        <path d=\"M19 3H5c-1.1 0-2 .9-2 2v14c0 1.1.9 2 2 2h14c1.1 0 2-.9 2-2V5c0-1.1-.9-2-2-2zM9 17H7v-7h2v7zm4 0h-2V7h2v10zm4 0h-2v-4h2v4z\"/>\n",
              "    </g>\n",
              "</svg>\n",
              "      </button>\n",
              "\n",
              "<style>\n",
              "  .colab-df-quickchart {\n",
              "      --bg-color: #E8F0FE;\n",
              "      --fill-color: #1967D2;\n",
              "      --hover-bg-color: #E2EBFA;\n",
              "      --hover-fill-color: #174EA6;\n",
              "      --disabled-fill-color: #AAA;\n",
              "      --disabled-bg-color: #DDD;\n",
              "  }\n",
              "\n",
              "  [theme=dark] .colab-df-quickchart {\n",
              "      --bg-color: #3B4455;\n",
              "      --fill-color: #D2E3FC;\n",
              "      --hover-bg-color: #434B5C;\n",
              "      --hover-fill-color: #FFFFFF;\n",
              "      --disabled-bg-color: #3B4455;\n",
              "      --disabled-fill-color: #666;\n",
              "  }\n",
              "\n",
              "  .colab-df-quickchart {\n",
              "    background-color: var(--bg-color);\n",
              "    border: none;\n",
              "    border-radius: 50%;\n",
              "    cursor: pointer;\n",
              "    display: none;\n",
              "    fill: var(--fill-color);\n",
              "    height: 32px;\n",
              "    padding: 0;\n",
              "    width: 32px;\n",
              "  }\n",
              "\n",
              "  .colab-df-quickchart:hover {\n",
              "    background-color: var(--hover-bg-color);\n",
              "    box-shadow: 0 1px 2px rgba(60, 64, 67, 0.3), 0 1px 3px 1px rgba(60, 64, 67, 0.15);\n",
              "    fill: var(--button-hover-fill-color);\n",
              "  }\n",
              "\n",
              "  .colab-df-quickchart-complete:disabled,\n",
              "  .colab-df-quickchart-complete:disabled:hover {\n",
              "    background-color: var(--disabled-bg-color);\n",
              "    fill: var(--disabled-fill-color);\n",
              "    box-shadow: none;\n",
              "  }\n",
              "\n",
              "  .colab-df-spinner {\n",
              "    border: 2px solid var(--fill-color);\n",
              "    border-color: transparent;\n",
              "    border-bottom-color: var(--fill-color);\n",
              "    animation:\n",
              "      spin 1s steps(1) infinite;\n",
              "  }\n",
              "\n",
              "  @keyframes spin {\n",
              "    0% {\n",
              "      border-color: transparent;\n",
              "      border-bottom-color: var(--fill-color);\n",
              "      border-left-color: var(--fill-color);\n",
              "    }\n",
              "    20% {\n",
              "      border-color: transparent;\n",
              "      border-left-color: var(--fill-color);\n",
              "      border-top-color: var(--fill-color);\n",
              "    }\n",
              "    30% {\n",
              "      border-color: transparent;\n",
              "      border-left-color: var(--fill-color);\n",
              "      border-top-color: var(--fill-color);\n",
              "      border-right-color: var(--fill-color);\n",
              "    }\n",
              "    40% {\n",
              "      border-color: transparent;\n",
              "      border-right-color: var(--fill-color);\n",
              "      border-top-color: var(--fill-color);\n",
              "    }\n",
              "    60% {\n",
              "      border-color: transparent;\n",
              "      border-right-color: var(--fill-color);\n",
              "    }\n",
              "    80% {\n",
              "      border-color: transparent;\n",
              "      border-right-color: var(--fill-color);\n",
              "      border-bottom-color: var(--fill-color);\n",
              "    }\n",
              "    90% {\n",
              "      border-color: transparent;\n",
              "      border-bottom-color: var(--fill-color);\n",
              "    }\n",
              "  }\n",
              "</style>\n",
              "\n",
              "      <script>\n",
              "        async function quickchart(key) {\n",
              "          const quickchartButtonEl =\n",
              "            document.querySelector('#' + key + ' button');\n",
              "          quickchartButtonEl.disabled = true;  // To prevent multiple clicks.\n",
              "          quickchartButtonEl.classList.add('colab-df-spinner');\n",
              "          try {\n",
              "            const charts = await google.colab.kernel.invokeFunction(\n",
              "                'suggestCharts', [key], {});\n",
              "          } catch (error) {\n",
              "            console.error('Error during call to suggestCharts:', error);\n",
              "          }\n",
              "          quickchartButtonEl.classList.remove('colab-df-spinner');\n",
              "          quickchartButtonEl.classList.add('colab-df-quickchart-complete');\n",
              "        }\n",
              "        (() => {\n",
              "          let quickchartButtonEl =\n",
              "            document.querySelector('#df-78d6669f-e892-46d9-ae15-53702f0ad826 button');\n",
              "          quickchartButtonEl.style.display =\n",
              "            google.colab.kernel.accessAllowed ? 'block' : 'none';\n",
              "        })();\n",
              "      </script>\n",
              "    </div>\n",
              "\n",
              "  <div id=\"id_991cff1f-3c06-4394-a9ea-c18b5b49e429\">\n",
              "    <style>\n",
              "      .colab-df-generate {\n",
              "        background-color: #E8F0FE;\n",
              "        border: none;\n",
              "        border-radius: 50%;\n",
              "        cursor: pointer;\n",
              "        display: none;\n",
              "        fill: #1967D2;\n",
              "        height: 32px;\n",
              "        padding: 0 0 0 0;\n",
              "        width: 32px;\n",
              "      }\n",
              "\n",
              "      .colab-df-generate:hover {\n",
              "        background-color: #E2EBFA;\n",
              "        box-shadow: 0px 1px 2px rgba(60, 64, 67, 0.3), 0px 1px 3px 1px rgba(60, 64, 67, 0.15);\n",
              "        fill: #174EA6;\n",
              "      }\n",
              "\n",
              "      [theme=dark] .colab-df-generate {\n",
              "        background-color: #3B4455;\n",
              "        fill: #D2E3FC;\n",
              "      }\n",
              "\n",
              "      [theme=dark] .colab-df-generate:hover {\n",
              "        background-color: #434B5C;\n",
              "        box-shadow: 0px 1px 3px 1px rgba(0, 0, 0, 0.15);\n",
              "        filter: drop-shadow(0px 1px 2px rgba(0, 0, 0, 0.3));\n",
              "        fill: #FFFFFF;\n",
              "      }\n",
              "    </style>\n",
              "    <button class=\"colab-df-generate\" onclick=\"generateWithVariable('df')\"\n",
              "            title=\"Generate code using this dataframe.\"\n",
              "            style=\"display:none;\">\n",
              "\n",
              "  <svg xmlns=\"http://www.w3.org/2000/svg\" height=\"24px\"viewBox=\"0 0 24 24\"\n",
              "       width=\"24px\">\n",
              "    <path d=\"M7,19H8.4L18.45,9,17,7.55,7,17.6ZM5,21V16.75L18.45,3.32a2,2,0,0,1,2.83,0l1.4,1.43a1.91,1.91,0,0,1,.58,1.4,1.91,1.91,0,0,1-.58,1.4L9.25,21ZM18.45,9,17,7.55Zm-12,3A5.31,5.31,0,0,0,4.9,8.1,5.31,5.31,0,0,0,1,6.5,5.31,5.31,0,0,0,4.9,4.9,5.31,5.31,0,0,0,6.5,1,5.31,5.31,0,0,0,8.1,4.9,5.31,5.31,0,0,0,12,6.5,5.46,5.46,0,0,0,6.5,12Z\"/>\n",
              "  </svg>\n",
              "    </button>\n",
              "    <script>\n",
              "      (() => {\n",
              "      const buttonEl =\n",
              "        document.querySelector('#id_991cff1f-3c06-4394-a9ea-c18b5b49e429 button.colab-df-generate');\n",
              "      buttonEl.style.display =\n",
              "        google.colab.kernel.accessAllowed ? 'block' : 'none';\n",
              "\n",
              "      buttonEl.onclick = () => {\n",
              "        google.colab.notebook.generateWithVariable('df');\n",
              "      }\n",
              "      })();\n",
              "    </script>\n",
              "  </div>\n",
              "\n",
              "    </div>\n",
              "  </div>\n"
            ],
            "application/vnd.google.colaboratory.intrinsic+json": {
              "type": "dataframe",
              "variable_name": "df",
              "summary": "{\n  \"name\": \"df\",\n  \"rows\": 2318,\n  \"fields\": [\n    {\n      \"column\": \"TransactionAmount\",\n      \"properties\": {\n        \"dtype\": \"category\",\n        \"num_unique_values\": 5,\n        \"samples\": [\n          \"Besar\",\n          \"Sangat Besar\",\n          \"Kecil\"\n        ],\n        \"semantic_type\": \"\",\n        \"description\": \"\"\n      }\n    },\n    {\n      \"column\": \"TransactionType\",\n      \"properties\": {\n        \"dtype\": \"category\",\n        \"num_unique_values\": 2,\n        \"samples\": [\n          \"Credit\",\n          \"Debit\"\n        ],\n        \"semantic_type\": \"\",\n        \"description\": \"\"\n      }\n    },\n    {\n      \"column\": \"Channel\",\n      \"properties\": {\n        \"dtype\": \"category\",\n        \"num_unique_values\": 3,\n        \"samples\": [\n          \"ATM\",\n          \"Online\"\n        ],\n        \"semantic_type\": \"\",\n        \"description\": \"\"\n      }\n    },\n    {\n      \"column\": \"CustomerOccupation\",\n      \"properties\": {\n        \"dtype\": \"category\",\n        \"num_unique_values\": 4,\n        \"samples\": [\n          \"Student\",\n          \"Engineer\"\n        ],\n        \"semantic_type\": \"\",\n        \"description\": \"\"\n      }\n    },\n    {\n      \"column\": \"CustomerAge\",\n      \"properties\": {\n        \"dtype\": \"number\",\n        \"std\": 5675.599303628092,\n        \"min\": 6565.581477155127,\n        \"max\": 26289.97724654366,\n        \"num_unique_values\": 63,\n        \"samples\": [\n          24063.029337096566,\n          20245.40434947298\n        ],\n        \"semantic_type\": \"\",\n        \"description\": \"\"\n      }\n    },\n    {\n      \"column\": \"TransactionDuration\",\n      \"properties\": {\n        \"dtype\": \"number\",\n        \"std\": 352163.60787421523,\n        \"min\": 58434.953344101625,\n        \"max\": 1504424.59412105,\n        \"num_unique_values\": 286,\n        \"samples\": [\n          302757.34092365496,\n          1479493.7382455857\n        ],\n        \"semantic_type\": \"\",\n        \"description\": \"\"\n      }\n    },\n    {\n      \"column\": \"LoginAttempts\",\n      \"properties\": {\n        \"dtype\": \"number\",\n        \"std\": 0.1973492562220878,\n        \"min\": 2.108105043221152,\n        \"max\": 3.4637767157900337,\n        \"num_unique_values\": 5,\n        \"samples\": [\n          2.785940879505593,\n          3.1248587976478133\n        ],\n        \"semantic_type\": \"\",\n        \"description\": \"\"\n      }\n    },\n    {\n      \"column\": \"AccountBalance\",\n      \"properties\": {\n        \"dtype\": \"number\",\n        \"std\": 59222164913.97398,\n        \"min\": 1557914724.320077,\n        \"max\": 227554300196.07907,\n        \"num_unique_values\": 2317,\n        \"samples\": [\n          146594165329.88275,\n          159283878309.75095\n        ],\n        \"semantic_type\": \"\",\n        \"description\": \"\"\n      }\n    },\n    {\n      \"column\": \"Target\",\n      \"properties\": {\n        \"dtype\": \"number\",\n        \"std\": 1,\n        \"min\": 0,\n        \"max\": 5,\n        \"num_unique_values\": 6,\n        \"samples\": [\n          4,\n          0\n        ],\n        \"semantic_type\": \"\",\n        \"description\": \"\"\n      }\n    }\n  ]\n}"
            }
          },
          "metadata": {},
          "execution_count": 2
        }
      ]
    },
    {
      "cell_type": "markdown",
      "source": [
        " sekarang saya membaca file CSV dan menyimpannya dalam DataFrame bernama df. Dengan langsung memanggil df, saya melihat struktur data yang terdiri dari 2318 baris dan 9 kolom, termasuk fitur seperti TransactionAmount dan kolom Target."
      ],
      "metadata": {
        "id": "XSdj4qU_gUYF"
      }
    },
    {
      "cell_type": "code",
      "source": [
        "df.head(5)"
      ],
      "metadata": {
        "id": "bCsep0NZ0LUf",
        "colab": {
          "base_uri": "https://localhost:8080/",
          "height": 206
        },
        "outputId": "4fce8361-a004-438c-99d2-e84db1c5f255"
      },
      "execution_count": 3,
      "outputs": [
        {
          "output_type": "execute_result",
          "data": {
            "text/plain": [
              "  TransactionAmount TransactionType Channel CustomerOccupation   CustomerAge  \\\n",
              "0      Sangat Kecil           Debit     ATM             Doctor  23108.623090   \n",
              "1             Besar           Debit     ATM             Doctor  22472.352259   \n",
              "2             Kecil           Debit  Online            Student   6883.716893   \n",
              "3            Sedang           Debit  Online            Student   9110.664802   \n",
              "4             Kecil           Debit     ATM            Student   6565.581477   \n",
              "\n",
              "   TransactionDuration  LoginAttempts  AccountBalance  Target  \n",
              "0        412453.106776       2.108105    7.768070e+10       4  \n",
              "1        711623.377281       2.108105    2.090349e+11       0  \n",
              "2        287798.827398       2.108105    1.706971e+10       1  \n",
              "3        133227.520970       2.108105    1.301946e+11       5  \n",
              "4        866194.683709       2.108105    1.189450e+10       1  "
            ],
            "text/html": [
              "\n",
              "  <div id=\"df-7affdc40-278a-43c4-a79a-68bb222e0bd5\" class=\"colab-df-container\">\n",
              "    <div>\n",
              "<style scoped>\n",
              "    .dataframe tbody tr th:only-of-type {\n",
              "        vertical-align: middle;\n",
              "    }\n",
              "\n",
              "    .dataframe tbody tr th {\n",
              "        vertical-align: top;\n",
              "    }\n",
              "\n",
              "    .dataframe thead th {\n",
              "        text-align: right;\n",
              "    }\n",
              "</style>\n",
              "<table border=\"1\" class=\"dataframe\">\n",
              "  <thead>\n",
              "    <tr style=\"text-align: right;\">\n",
              "      <th></th>\n",
              "      <th>TransactionAmount</th>\n",
              "      <th>TransactionType</th>\n",
              "      <th>Channel</th>\n",
              "      <th>CustomerOccupation</th>\n",
              "      <th>CustomerAge</th>\n",
              "      <th>TransactionDuration</th>\n",
              "      <th>LoginAttempts</th>\n",
              "      <th>AccountBalance</th>\n",
              "      <th>Target</th>\n",
              "    </tr>\n",
              "  </thead>\n",
              "  <tbody>\n",
              "    <tr>\n",
              "      <th>0</th>\n",
              "      <td>Sangat Kecil</td>\n",
              "      <td>Debit</td>\n",
              "      <td>ATM</td>\n",
              "      <td>Doctor</td>\n",
              "      <td>23108.623090</td>\n",
              "      <td>412453.106776</td>\n",
              "      <td>2.108105</td>\n",
              "      <td>7.768070e+10</td>\n",
              "      <td>4</td>\n",
              "    </tr>\n",
              "    <tr>\n",
              "      <th>1</th>\n",
              "      <td>Besar</td>\n",
              "      <td>Debit</td>\n",
              "      <td>ATM</td>\n",
              "      <td>Doctor</td>\n",
              "      <td>22472.352259</td>\n",
              "      <td>711623.377281</td>\n",
              "      <td>2.108105</td>\n",
              "      <td>2.090349e+11</td>\n",
              "      <td>0</td>\n",
              "    </tr>\n",
              "    <tr>\n",
              "      <th>2</th>\n",
              "      <td>Kecil</td>\n",
              "      <td>Debit</td>\n",
              "      <td>Online</td>\n",
              "      <td>Student</td>\n",
              "      <td>6883.716893</td>\n",
              "      <td>287798.827398</td>\n",
              "      <td>2.108105</td>\n",
              "      <td>1.706971e+10</td>\n",
              "      <td>1</td>\n",
              "    </tr>\n",
              "    <tr>\n",
              "      <th>3</th>\n",
              "      <td>Sedang</td>\n",
              "      <td>Debit</td>\n",
              "      <td>Online</td>\n",
              "      <td>Student</td>\n",
              "      <td>9110.664802</td>\n",
              "      <td>133227.520970</td>\n",
              "      <td>2.108105</td>\n",
              "      <td>1.301946e+11</td>\n",
              "      <td>5</td>\n",
              "    </tr>\n",
              "    <tr>\n",
              "      <th>4</th>\n",
              "      <td>Kecil</td>\n",
              "      <td>Debit</td>\n",
              "      <td>ATM</td>\n",
              "      <td>Student</td>\n",
              "      <td>6565.581477</td>\n",
              "      <td>866194.683709</td>\n",
              "      <td>2.108105</td>\n",
              "      <td>1.189450e+10</td>\n",
              "      <td>1</td>\n",
              "    </tr>\n",
              "  </tbody>\n",
              "</table>\n",
              "</div>\n",
              "    <div class=\"colab-df-buttons\">\n",
              "\n",
              "  <div class=\"colab-df-container\">\n",
              "    <button class=\"colab-df-convert\" onclick=\"convertToInteractive('df-7affdc40-278a-43c4-a79a-68bb222e0bd5')\"\n",
              "            title=\"Convert this dataframe to an interactive table.\"\n",
              "            style=\"display:none;\">\n",
              "\n",
              "  <svg xmlns=\"http://www.w3.org/2000/svg\" height=\"24px\" viewBox=\"0 -960 960 960\">\n",
              "    <path d=\"M120-120v-720h720v720H120Zm60-500h600v-160H180v160Zm220 220h160v-160H400v160Zm0 220h160v-160H400v160ZM180-400h160v-160H180v160Zm440 0h160v-160H620v160ZM180-180h160v-160H180v160Zm440 0h160v-160H620v160Z\"/>\n",
              "  </svg>\n",
              "    </button>\n",
              "\n",
              "  <style>\n",
              "    .colab-df-container {\n",
              "      display:flex;\n",
              "      gap: 12px;\n",
              "    }\n",
              "\n",
              "    .colab-df-convert {\n",
              "      background-color: #E8F0FE;\n",
              "      border: none;\n",
              "      border-radius: 50%;\n",
              "      cursor: pointer;\n",
              "      display: none;\n",
              "      fill: #1967D2;\n",
              "      height: 32px;\n",
              "      padding: 0 0 0 0;\n",
              "      width: 32px;\n",
              "    }\n",
              "\n",
              "    .colab-df-convert:hover {\n",
              "      background-color: #E2EBFA;\n",
              "      box-shadow: 0px 1px 2px rgba(60, 64, 67, 0.3), 0px 1px 3px 1px rgba(60, 64, 67, 0.15);\n",
              "      fill: #174EA6;\n",
              "    }\n",
              "\n",
              "    .colab-df-buttons div {\n",
              "      margin-bottom: 4px;\n",
              "    }\n",
              "\n",
              "    [theme=dark] .colab-df-convert {\n",
              "      background-color: #3B4455;\n",
              "      fill: #D2E3FC;\n",
              "    }\n",
              "\n",
              "    [theme=dark] .colab-df-convert:hover {\n",
              "      background-color: #434B5C;\n",
              "      box-shadow: 0px 1px 3px 1px rgba(0, 0, 0, 0.15);\n",
              "      filter: drop-shadow(0px 1px 2px rgba(0, 0, 0, 0.3));\n",
              "      fill: #FFFFFF;\n",
              "    }\n",
              "  </style>\n",
              "\n",
              "    <script>\n",
              "      const buttonEl =\n",
              "        document.querySelector('#df-7affdc40-278a-43c4-a79a-68bb222e0bd5 button.colab-df-convert');\n",
              "      buttonEl.style.display =\n",
              "        google.colab.kernel.accessAllowed ? 'block' : 'none';\n",
              "\n",
              "      async function convertToInteractive(key) {\n",
              "        const element = document.querySelector('#df-7affdc40-278a-43c4-a79a-68bb222e0bd5');\n",
              "        const dataTable =\n",
              "          await google.colab.kernel.invokeFunction('convertToInteractive',\n",
              "                                                    [key], {});\n",
              "        if (!dataTable) return;\n",
              "\n",
              "        const docLinkHtml = 'Like what you see? Visit the ' +\n",
              "          '<a target=\"_blank\" href=https://colab.research.google.com/notebooks/data_table.ipynb>data table notebook</a>'\n",
              "          + ' to learn more about interactive tables.';\n",
              "        element.innerHTML = '';\n",
              "        dataTable['output_type'] = 'display_data';\n",
              "        await google.colab.output.renderOutput(dataTable, element);\n",
              "        const docLink = document.createElement('div');\n",
              "        docLink.innerHTML = docLinkHtml;\n",
              "        element.appendChild(docLink);\n",
              "      }\n",
              "    </script>\n",
              "  </div>\n",
              "\n",
              "\n",
              "    <div id=\"df-ec18c419-43db-4d15-ba01-ffcca25d3363\">\n",
              "      <button class=\"colab-df-quickchart\" onclick=\"quickchart('df-ec18c419-43db-4d15-ba01-ffcca25d3363')\"\n",
              "                title=\"Suggest charts\"\n",
              "                style=\"display:none;\">\n",
              "\n",
              "<svg xmlns=\"http://www.w3.org/2000/svg\" height=\"24px\"viewBox=\"0 0 24 24\"\n",
              "     width=\"24px\">\n",
              "    <g>\n",
              "        <path d=\"M19 3H5c-1.1 0-2 .9-2 2v14c0 1.1.9 2 2 2h14c1.1 0 2-.9 2-2V5c0-1.1-.9-2-2-2zM9 17H7v-7h2v7zm4 0h-2V7h2v10zm4 0h-2v-4h2v4z\"/>\n",
              "    </g>\n",
              "</svg>\n",
              "      </button>\n",
              "\n",
              "<style>\n",
              "  .colab-df-quickchart {\n",
              "      --bg-color: #E8F0FE;\n",
              "      --fill-color: #1967D2;\n",
              "      --hover-bg-color: #E2EBFA;\n",
              "      --hover-fill-color: #174EA6;\n",
              "      --disabled-fill-color: #AAA;\n",
              "      --disabled-bg-color: #DDD;\n",
              "  }\n",
              "\n",
              "  [theme=dark] .colab-df-quickchart {\n",
              "      --bg-color: #3B4455;\n",
              "      --fill-color: #D2E3FC;\n",
              "      --hover-bg-color: #434B5C;\n",
              "      --hover-fill-color: #FFFFFF;\n",
              "      --disabled-bg-color: #3B4455;\n",
              "      --disabled-fill-color: #666;\n",
              "  }\n",
              "\n",
              "  .colab-df-quickchart {\n",
              "    background-color: var(--bg-color);\n",
              "    border: none;\n",
              "    border-radius: 50%;\n",
              "    cursor: pointer;\n",
              "    display: none;\n",
              "    fill: var(--fill-color);\n",
              "    height: 32px;\n",
              "    padding: 0;\n",
              "    width: 32px;\n",
              "  }\n",
              "\n",
              "  .colab-df-quickchart:hover {\n",
              "    background-color: var(--hover-bg-color);\n",
              "    box-shadow: 0 1px 2px rgba(60, 64, 67, 0.3), 0 1px 3px 1px rgba(60, 64, 67, 0.15);\n",
              "    fill: var(--button-hover-fill-color);\n",
              "  }\n",
              "\n",
              "  .colab-df-quickchart-complete:disabled,\n",
              "  .colab-df-quickchart-complete:disabled:hover {\n",
              "    background-color: var(--disabled-bg-color);\n",
              "    fill: var(--disabled-fill-color);\n",
              "    box-shadow: none;\n",
              "  }\n",
              "\n",
              "  .colab-df-spinner {\n",
              "    border: 2px solid var(--fill-color);\n",
              "    border-color: transparent;\n",
              "    border-bottom-color: var(--fill-color);\n",
              "    animation:\n",
              "      spin 1s steps(1) infinite;\n",
              "  }\n",
              "\n",
              "  @keyframes spin {\n",
              "    0% {\n",
              "      border-color: transparent;\n",
              "      border-bottom-color: var(--fill-color);\n",
              "      border-left-color: var(--fill-color);\n",
              "    }\n",
              "    20% {\n",
              "      border-color: transparent;\n",
              "      border-left-color: var(--fill-color);\n",
              "      border-top-color: var(--fill-color);\n",
              "    }\n",
              "    30% {\n",
              "      border-color: transparent;\n",
              "      border-left-color: var(--fill-color);\n",
              "      border-top-color: var(--fill-color);\n",
              "      border-right-color: var(--fill-color);\n",
              "    }\n",
              "    40% {\n",
              "      border-color: transparent;\n",
              "      border-right-color: var(--fill-color);\n",
              "      border-top-color: var(--fill-color);\n",
              "    }\n",
              "    60% {\n",
              "      border-color: transparent;\n",
              "      border-right-color: var(--fill-color);\n",
              "    }\n",
              "    80% {\n",
              "      border-color: transparent;\n",
              "      border-right-color: var(--fill-color);\n",
              "      border-bottom-color: var(--fill-color);\n",
              "    }\n",
              "    90% {\n",
              "      border-color: transparent;\n",
              "      border-bottom-color: var(--fill-color);\n",
              "    }\n",
              "  }\n",
              "</style>\n",
              "\n",
              "      <script>\n",
              "        async function quickchart(key) {\n",
              "          const quickchartButtonEl =\n",
              "            document.querySelector('#' + key + ' button');\n",
              "          quickchartButtonEl.disabled = true;  // To prevent multiple clicks.\n",
              "          quickchartButtonEl.classList.add('colab-df-spinner');\n",
              "          try {\n",
              "            const charts = await google.colab.kernel.invokeFunction(\n",
              "                'suggestCharts', [key], {});\n",
              "          } catch (error) {\n",
              "            console.error('Error during call to suggestCharts:', error);\n",
              "          }\n",
              "          quickchartButtonEl.classList.remove('colab-df-spinner');\n",
              "          quickchartButtonEl.classList.add('colab-df-quickchart-complete');\n",
              "        }\n",
              "        (() => {\n",
              "          let quickchartButtonEl =\n",
              "            document.querySelector('#df-ec18c419-43db-4d15-ba01-ffcca25d3363 button');\n",
              "          quickchartButtonEl.style.display =\n",
              "            google.colab.kernel.accessAllowed ? 'block' : 'none';\n",
              "        })();\n",
              "      </script>\n",
              "    </div>\n",
              "\n",
              "    </div>\n",
              "  </div>\n"
            ],
            "application/vnd.google.colaboratory.intrinsic+json": {
              "type": "dataframe",
              "variable_name": "df",
              "summary": "{\n  \"name\": \"df\",\n  \"rows\": 2318,\n  \"fields\": [\n    {\n      \"column\": \"TransactionAmount\",\n      \"properties\": {\n        \"dtype\": \"category\",\n        \"num_unique_values\": 5,\n        \"samples\": [\n          \"Besar\",\n          \"Sangat Besar\",\n          \"Kecil\"\n        ],\n        \"semantic_type\": \"\",\n        \"description\": \"\"\n      }\n    },\n    {\n      \"column\": \"TransactionType\",\n      \"properties\": {\n        \"dtype\": \"category\",\n        \"num_unique_values\": 2,\n        \"samples\": [\n          \"Credit\",\n          \"Debit\"\n        ],\n        \"semantic_type\": \"\",\n        \"description\": \"\"\n      }\n    },\n    {\n      \"column\": \"Channel\",\n      \"properties\": {\n        \"dtype\": \"category\",\n        \"num_unique_values\": 3,\n        \"samples\": [\n          \"ATM\",\n          \"Online\"\n        ],\n        \"semantic_type\": \"\",\n        \"description\": \"\"\n      }\n    },\n    {\n      \"column\": \"CustomerOccupation\",\n      \"properties\": {\n        \"dtype\": \"category\",\n        \"num_unique_values\": 4,\n        \"samples\": [\n          \"Student\",\n          \"Engineer\"\n        ],\n        \"semantic_type\": \"\",\n        \"description\": \"\"\n      }\n    },\n    {\n      \"column\": \"CustomerAge\",\n      \"properties\": {\n        \"dtype\": \"number\",\n        \"std\": 5675.599303628092,\n        \"min\": 6565.581477155127,\n        \"max\": 26289.97724654366,\n        \"num_unique_values\": 63,\n        \"samples\": [\n          24063.029337096566,\n          20245.40434947298\n        ],\n        \"semantic_type\": \"\",\n        \"description\": \"\"\n      }\n    },\n    {\n      \"column\": \"TransactionDuration\",\n      \"properties\": {\n        \"dtype\": \"number\",\n        \"std\": 352163.60787421523,\n        \"min\": 58434.953344101625,\n        \"max\": 1504424.59412105,\n        \"num_unique_values\": 286,\n        \"samples\": [\n          302757.34092365496,\n          1479493.7382455857\n        ],\n        \"semantic_type\": \"\",\n        \"description\": \"\"\n      }\n    },\n    {\n      \"column\": \"LoginAttempts\",\n      \"properties\": {\n        \"dtype\": \"number\",\n        \"std\": 0.1973492562220878,\n        \"min\": 2.108105043221152,\n        \"max\": 3.4637767157900337,\n        \"num_unique_values\": 5,\n        \"samples\": [\n          2.785940879505593,\n          3.1248587976478133\n        ],\n        \"semantic_type\": \"\",\n        \"description\": \"\"\n      }\n    },\n    {\n      \"column\": \"AccountBalance\",\n      \"properties\": {\n        \"dtype\": \"number\",\n        \"std\": 59222164913.97398,\n        \"min\": 1557914724.320077,\n        \"max\": 227554300196.07907,\n        \"num_unique_values\": 2317,\n        \"samples\": [\n          146594165329.88275,\n          159283878309.75095\n        ],\n        \"semantic_type\": \"\",\n        \"description\": \"\"\n      }\n    },\n    {\n      \"column\": \"Target\",\n      \"properties\": {\n        \"dtype\": \"number\",\n        \"std\": 1,\n        \"min\": 0,\n        \"max\": 5,\n        \"num_unique_values\": 6,\n        \"samples\": [\n          4,\n          0\n        ],\n        \"semantic_type\": \"\",\n        \"description\": \"\"\n      }\n    }\n  ]\n}"
            }
          },
          "metadata": {},
          "execution_count": 3
        }
      ]
    },
    {
      "cell_type": "markdown",
      "source": [
        "untuk melihat cuplikan data lebih detail, khususnya beberapa baris pertama, saya menjalankan df.head(5). Perintah ini menampilkan lima baris teratas dari DataFrame df saya. Seperti yang terlihat pada gambar, ini memungkinkan saya untuk memeriksa dengan cepat nama-nama kolom seperti TransactionAmount, TransactionType, Channel, CustomerOccupation, hingga Target, beserta contoh-contoh data di dalamnya."
      ],
      "metadata": {
        "id": "L4RLMZs6goIE"
      }
    },
    {
      "cell_type": "markdown",
      "source": [
        "# **3. Data Splitting**\n",
        "Tahap Data Splitting bertujuan untuk memisahkan dataset menjadi dua bagian: data latih (training set) dan data uji (test set)."
      ],
      "metadata": {
        "id": "KkPem5eWL2UP"
      }
    },
    {
      "cell_type": "code",
      "source": [
        "from types import TracebackType\n",
        "TransactionTypeEncoder = LabelEncoder()\n",
        "ChannelEncoder = LabelEncoder()\n",
        "CustomerOccupationEncoder = LabelEncoder()\n",
        "LoginAttemptsEncoder = LabelEncoder()\n",
        "TransactionAmountEncoder = LabelEncoder()\n",
        "df['TransactionType'] = TransactionTypeEncoder.fit_transform(df['TransactionType'])\n",
        "df['TransactionAmount'] = TransactionAmountEncoder.fit_transform(df['TransactionAmount'])\n",
        "df['LoginAttempts'] = LoginAttemptsEncoder.fit_transform(df['LoginAttempts'])\n",
        "df['Channel'] = ChannelEncoder.fit_transform(df['Channel'])\n",
        "df['CustomerOccupation'] = CustomerOccupationEncoder.fit_transform(df['CustomerOccupation'])"
      ],
      "metadata": {
        "id": "UmJ05glee7dp"
      },
      "execution_count": 4,
      "outputs": []
    },
    {
      "cell_type": "markdown",
      "source": [
        "sekarang saya akan mengubah kolom-kolom teks seperti TransactionType, TransactionAmount, LoginAttempts, Channel, dan CustomerOccupation menjadi representasi numerik. Untuk ini, saya menggunakan LabelEncoder, membuat encoder terpisah untuk setiap kolom, lalu menerapkan fit_transform untuk mengganti nilai-nilai teks di kolom tersebut dengan angka.\n",
        "\n",
        "\n",
        "Sumber\n"
      ],
      "metadata": {
        "id": "oxf4cltKgv-U"
      }
    },
    {
      "cell_type": "code",
      "source": [
        "minmax_scaler = MinMaxScaler()\n",
        "\n",
        "numerical_columns = df.select_dtypes(include=['int64', 'float64']).columns\n",
        "df[numerical_columns] = minmax_scaler.fit_transform(df[numerical_columns])"
      ],
      "metadata": {
        "id": "zcYq6pHdgUTz"
      },
      "execution_count": 5,
      "outputs": []
    },
    {
      "cell_type": "markdown",
      "source": [
        " selanjutnya saya akan menormalkan semua kolom numerik menggunakan MinMaxScaler. Saya membuat objek MinMaxScaler, lalu memilih kolom-kolom bertipe int64 atau float64, dan kemudian menerapkan fit_transform pada kolom-kolom tersebut untuk mengubah skala nilainya menjadi antara 0 dan 1."
      ],
      "metadata": {
        "id": "annIzlCXg3tc"
      }
    },
    {
      "cell_type": "code",
      "source": [
        "df['Target'] = df['Target'].astype(str)\n",
        "df.info()"
      ],
      "metadata": {
        "id": "I-HAuizUgbvS",
        "colab": {
          "base_uri": "https://localhost:8080/"
        },
        "outputId": "60958ee3-78cf-4f5c-f69d-012d0803e1ec"
      },
      "execution_count": 6,
      "outputs": [
        {
          "output_type": "stream",
          "name": "stdout",
          "text": [
            "<class 'pandas.core.frame.DataFrame'>\n",
            "RangeIndex: 2318 entries, 0 to 2317\n",
            "Data columns (total 9 columns):\n",
            " #   Column               Non-Null Count  Dtype  \n",
            "---  ------               --------------  -----  \n",
            " 0   TransactionAmount    2318 non-null   float64\n",
            " 1   TransactionType      2318 non-null   float64\n",
            " 2   Channel              2318 non-null   float64\n",
            " 3   CustomerOccupation   2318 non-null   float64\n",
            " 4   CustomerAge          2318 non-null   float64\n",
            " 5   TransactionDuration  2318 non-null   float64\n",
            " 6   LoginAttempts        2318 non-null   float64\n",
            " 7   AccountBalance       2318 non-null   float64\n",
            " 8   Target               2318 non-null   object \n",
            "dtypes: float64(8), object(1)\n",
            "memory usage: 163.1+ KB\n"
          ]
        }
      ]
    },
    {
      "cell_type": "markdown",
      "source": [
        "saya mengubah kolom 'Target' menjadi tipe data string, lalu menggunakan df.info() untuk melihat ringkasan DataFrame. Outputnya (seperti pada gambar) mengonfirmasi bahwa 'Target' kini bertipe 'object' dan 8 kolom fitur lainnya adalah float64, tanpa ada nilai yang hilang."
      ],
      "metadata": {
        "id": "rR8HFPGdhC_1"
      }
    },
    {
      "cell_type": "code",
      "source": [
        "X = df.drop(columns=['Target'])\n",
        "y = df['Target']\n",
        "\n",
        "X_train, X_test, y_train, y_test = train_test_split(X, y, test_size=0.2, random_state=42)\n"
      ],
      "metadata": {
        "id": "OubAW-7ONKVj"
      },
      "execution_count": 7,
      "outputs": []
    },
    {
      "cell_type": "markdown",
      "source": [
        "saya memisahkan DataFrame menjadi fitur X (semua kolom kecuali 'Target') dan target y. Kemudian, saya menggunakan train_test_split untuk membaginya menjadi data latih (X_train, y_train) dan data uji (X_test, y_test) dengan proporsi 80% latih dan 20% uji, menggunakan random_state=42 agar pembagiannya konsisten."
      ],
      "metadata": {
        "id": "wdPJFkifhIk0"
      }
    },
    {
      "cell_type": "markdown",
      "source": [
        "# **4. Membangun Model Klasifikasi**\n",
        "Setelah memilih algoritma klasifikasi yang sesuai, langkah selanjutnya adalah melatih model menggunakan data latih.\n",
        "\n",
        "Berikut adalah rekomendasi tahapannya.\n",
        "1. Menggunakan algoritma klasifikasi yaitu Decision Tree.\n",
        "2. Latih model menggunakan data yang sudah dipisah."
      ],
      "metadata": {
        "id": "IVPbB03CMhTT"
      }
    },
    {
      "cell_type": "code",
      "source": [
        "dt = DecisionTreeClassifier().fit(X_train, y_train)"
      ],
      "metadata": {
        "id": "4JYxBe87NLDk"
      },
      "execution_count": 8,
      "outputs": []
    },
    {
      "cell_type": "markdown",
      "source": [
        "Baik, saya membuat model Decision Tree Classifier dan langsung melatihnya (.fit()) menggunakan data latih X_train dan y_train."
      ],
      "metadata": {
        "id": "P466hbZ6hbYY"
      }
    },
    {
      "cell_type": "code",
      "source": [
        "y_pred = dt.predict(X_train)\n",
        "cm = confusion_matrix(y_train, y_pred)\n",
        "report = classification_report(y_train, y_pred)\n",
        "\n",
        "print(\"==== Decision Tree Classifier ====\")\n",
        "print(\"\\nClassification Report:\")\n",
        "print(report)\n",
        "\n",
        "plt.figure(figsize=(8, 6))\n",
        "sns.heatmap(cm, annot=True, fmt='d', cmap='Blues', cbar=False)\n",
        "plt.title('Decision Tree Confusion Matrix')\n",
        "plt.xlabel('Predicted')\n",
        "plt.ylabel('Actual')\n",
        "plt.show()\n",
        "\n",
        "print(\"-\" * 100 + \"\\n\")"
      ],
      "metadata": {
        "id": "baVYfkh-hDIj",
        "colab": {
          "base_uri": "https://localhost:8080/",
          "height": 876
        },
        "outputId": "4fcb6f8e-61ed-4078-f805-c01c9ce92b9d"
      },
      "execution_count": 9,
      "outputs": [
        {
          "output_type": "stream",
          "name": "stdout",
          "text": [
            "==== Decision Tree Classifier ====\n",
            "\n",
            "Classification Report:\n",
            "                    precision    recall  f1-score   support\n",
            "\n",
            "               0.0       1.00      1.00      1.00       352\n",
            "               0.2       1.00      1.00      1.00       285\n",
            "               0.4       1.00      1.00      1.00       437\n",
            "0.6000000000000001       1.00      1.00      1.00        68\n",
            "               0.8       1.00      1.00      1.00       533\n",
            "               1.0       1.00      1.00      1.00       179\n",
            "\n",
            "          accuracy                           1.00      1854\n",
            "         macro avg       1.00      1.00      1.00      1854\n",
            "      weighted avg       1.00      1.00      1.00      1854\n",
            "\n"
          ]
        },
        {
          "output_type": "display_data",
          "data": {
            "text/plain": [
              "<Figure size 800x600 with 1 Axes>"
            ],
            "image/png": "[encoded data removed]"
          },
          "metadata": {}
        },
        {
          "output_type": "stream",
          "name": "stdout",
          "text": [
            "----------------------------------------------------------------------------------------------------\n",
            "\n"
          ]
        }
      ]
    },
    {
      "cell_type": "markdown",
      "source": [
        "saya mengevaluasi model Decision Tree pada data latih. Saya membuat prediksi pada X_train, lalu menghasilkan classification report dan confusion matrix. Hasil cetak classification report (seperti pada gambar) dan visualisasi heatmap dari confusion matrix (juga terlihat di gambar) menunjukkan performa yang sempurna (akurasi, presisi, recall, f1-score 1.00) karena semua prediksi pada data latih tepat sesuai dengan nilai aktualnya."
      ],
      "metadata": {
        "id": "qnpYrIwRhpDN"
      }
    },
    {
      "cell_type": "code",
      "source": [
        "import joblib\n",
        "joblib.dump(dt, 'decision_tree_model.h5')"
      ],
      "metadata": {
        "id": "P_AakAxghYv-",
        "colab": {
          "base_uri": "https://localhost:8080/"
        },
        "outputId": "6764936f-4847-46b6-97a1-716d9298bd4d"
      },
      "execution_count": 10,
      "outputs": [
        {
          "output_type": "execute_result",
          "data": {
            "text/plain": [
              "['decision_tree_model.h5']"
            ]
          },
          "metadata": {},
          "execution_count": 10
        }
      ]
    },
    {
      "cell_type": "markdown",
      "source": [
        "Agar model Decision Tree yang sudah saya latih (dt) bisa digunakan kembali di masa mendatang tanpa perlu melatih ulang, saya akan menyimpannya ke dalam sebuah file."
      ],
      "metadata": {
        "id": "g9I5peVbhvUM"
      }
    },
    {
      "cell_type": "markdown",
      "source": [
        "# **5. Memenuhi Kriteria Skilled dan Advanced dalam Membangun Model Klasifikasi**\n",
        "\n"
      ],
      "metadata": {
        "id": "epO4HhrzBXMg"
      }
    },
    {
      "cell_type": "markdown",
      "source": [
        "**Biarkan kosong jika tidak menerapkan kriteria skilled atau advanced**"
      ],
      "metadata": {
        "id": "DNOEZk24uiXu"
      }
    },
    {
      "cell_type": "code",
      "source": [
        "rf = RandomForestClassifier().fit(X_train, y_train)"
      ],
      "metadata": {
        "id": "kB_8LIWMATl6"
      },
      "execution_count": 11,
      "outputs": []
    },
    {
      "cell_type": "markdown",
      "source": [
        " sekarang saya akan mencoba model klasifikasi lain, yaitu Random Forest, untuk melihat akan seperti apakah hasilnya nanti."
      ],
      "metadata": {
        "id": "Tsl-BLxIh1Fd"
      }
    },
    {
      "cell_type": "code",
      "source": [
        "y_pred = rf.predict(X_train)\n",
        "cm = confusion_matrix(y_train, y_pred)\n",
        "report = classification_report(y_train, y_pred)\n",
        "\n",
        "print(\"==== Random Forest Classifier ====\")\n",
        "print(\"\\nClassification Report:\")\n",
        "print(report)\n",
        "\n",
        "plt.figure(figsize=(8, 6))\n",
        "sns.heatmap(cm, annot=True, fmt='d', cmap='Blues', cbar=False)\n",
        "plt.title('Random Forest Confusion Matrix')\n",
        "plt.xlabel('Predicted')\n",
        "plt.ylabel('Actual')\n",
        "plt.show()\n",
        "\n",
        "print(\"-\" * 100 + \"\\n\")"
      ],
      "metadata": {
        "id": "bRlKm5BVAT91",
        "colab": {
          "base_uri": "https://localhost:8080/",
          "height": 876
        },
        "outputId": "aae7ecc7-674c-4fe4-e168-9e4c6a232594"
      },
      "execution_count": 12,
      "outputs": [
        {
          "output_type": "stream",
          "name": "stdout",
          "text": [
            "==== Random Forest Classifier ====\n",
            "\n",
            "Classification Report:\n",
            "                    precision    recall  f1-score   support\n",
            "\n",
            "               0.0       1.00      1.00      1.00       352\n",
            "               0.2       1.00      1.00      1.00       285\n",
            "               0.4       1.00      1.00      1.00       437\n",
            "0.6000000000000001       1.00      1.00      1.00        68\n",
            "               0.8       1.00      1.00      1.00       533\n",
            "               1.0       1.00      1.00      1.00       179\n",
            "\n",
            "          accuracy                           1.00      1854\n",
            "         macro avg       1.00      1.00      1.00      1854\n",
            "      weighted avg       1.00      1.00      1.00      1854\n",
            "\n"
          ]
        },
        {
          "output_type": "display_data",
          "data": {
            "text/plain": [
              "<Figure size 800x600 with 1 Axes>"
            ],
            "image/png": "[encoded data removed]"
          },
          "metadata": {}
        },
        {
          "output_type": "stream",
          "name": "stdout",
          "text": [
            "----------------------------------------------------------------------------------------------------\n",
            "\n"
          ]
        }
      ]
    },
    {
      "cell_type": "markdown",
      "source": [
        "saya mengevaluasi model Random Forest pada data latih. Saya membuat prediksi, lalu menghasilkan classification report dan confusion matrix. Hasil cetak classification report dan visualisasi heatmap (seperti pada gambar) kembali menunjukkan performa sempurna pada data latih, dengan semua metrik (akurasi, presisi, recall, f1-score) bernilai 1.00, karena semua prediksi tepat."
      ],
      "metadata": {
        "id": "nx0BQykBiK9W"
      }
    },
    {
      "cell_type": "code",
      "source": [
        "import joblib\n",
        "joblib.dump(rf, 'explore_randomforest_classification.h5')"
      ],
      "metadata": {
        "id": "dUPItkbXBNkO",
        "colab": {
          "base_uri": "https://localhost:8080/"
        },
        "outputId": "f420ebf0-90f5-4111-d893-91d0b52fc443"
      },
      "execution_count": 13,
      "outputs": [
        {
          "output_type": "execute_result",
          "data": {
            "text/plain": [
              "['explore_randomforest_classification.h5']"
            ]
          },
          "metadata": {},
          "execution_count": 13
        }
      ]
    },
    {
      "cell_type": "markdown",
      "source": [
        "Sama seperti model sebelumnya, agar model Random Forest yang sudah saya latih (rf) ini bisa saya gunakan lagi nanti, saya akan menyimpannya."
      ],
      "metadata": {
        "id": "dYGxRGNwiQV8"
      }
    },
    {
      "cell_type": "markdown",
      "source": [
        "Hyperparameter Tuning Model\n",
        "\n",
        "Pilih salah satu algoritma yang ingin Anda tuning"
      ],
      "metadata": {
        "id": "u23H2guj-h9h"
      }
    },
    {
      "cell_type": "code",
      "source": [
        "param_grid_dt = {\n",
        "    'criterion': ['gini', 'entropy'],\n",
        "    'splitter': ['best', 'random'],\n",
        "    'max_depth': [None, 10, 20, 30, 40, 50],\n",
        "    'min_samples_split': [2, 5, 10],\n",
        "    'min_samples_leaf': [1, 2, 4]\n",
        "}\n",
        "\n",
        "dt_grid_search = GridSearchCV(estimator=DecisionTreeClassifier(random_state=42),\n",
        "                              param_grid=param_grid_dt,\n",
        "                              cv=5,\n",
        "                              n_jobs=-1,\n",
        "                              verbose=1,\n",
        "                              scoring='accuracy')\n",
        "\n",
        "dt_grid_search.fit(X_train, y_train)\n",
        "\n",
        "best_params_dt = dt_grid_search.best_params_\n",
        "print(f\"Parameter terbaik untuk Decision Tree: {best_params_dt}\")\n",
        "\n",
        "tuned_dt = DecisionTreeClassifier(**best_params_dt, random_state=42)\n",
        "tuned_dt.fit(X_train, y_train)\n",
        "\n",
        "y_pred_train_dt_tuned = tuned_dt.predict(X_train)\n",
        "y_pred_test_dt_tuned = tuned_dt.predict(X_test)\n",
        "\n",
        "print(\"\\n==== Evaluasi Decision Tree (Tuned) pada Data Training ====\")\n",
        "cm_train_dt_tuned = confusion_matrix(y_train, y_pred_train_dt_tuned)\n",
        "report_train_dt_tuned = classification_report(y_train, y_pred_train_dt_tuned)\n",
        "print(\"\\nClassification Report (Data Training):\")\n",
        "print(report_train_dt_tuned)\n",
        "\n",
        "plt.figure(figsize=(10, 7))\n",
        "sns.heatmap(cm_train_dt_tuned, annot=True, fmt='d', cmap='Blues', cbar=False,\n",
        "            xticklabels=tuned_dt.classes_, yticklabels=tuned_dt.classes_)\n",
        "plt.title('Confusion Matrix Decision Tree (Tuned) - Data Training')\n",
        "plt.xlabel('Predicted')\n",
        "plt.ylabel('Actual')\n",
        "plt.show()\n",
        "\n",
        "print(\"\\n==== Evaluasi Decision Tree (Tuned) pada Data Test ====\")\n",
        "cm_test_dt_tuned = confusion_matrix(y_test, y_pred_test_dt_tuned)\n",
        "report_test_dt_tuned = classification_report(y_test, y_pred_test_dt_tuned)\n",
        "print(\"\\nClassification Report (Data Test):\")\n",
        "print(report_test_dt_tuned)\n",
        "\n",
        "plt.figure(figsize=(10, 7))\n",
        "sns.heatmap(cm_test_dt_tuned, annot=True, fmt='d', cmap='Blues', cbar=False,\n",
        "            xticklabels=tuned_dt.classes_, yticklabels=tuned_dt.classes_)\n",
        "plt.title('Confusion Matrix Decision Tree (Tuned) - Data Test')\n",
        "plt.xlabel('Predicted')\n",
        "plt.ylabel('Actual')\n",
        "plt.show()"
      ],
      "metadata": {
        "id": "8yl9AiyLr1TC",
        "colab": {
          "base_uri": "https://localhost:8080/",
          "height": 1000
        },
        "outputId": "04297942-30b4-4ada-b980-8c0873960294"
      },
      "execution_count": 14,
      "outputs": [
        {
          "output_type": "stream",
          "name": "stdout",
          "text": [
            "Fitting 5 folds for each of 216 candidates, totalling 1080 fits\n",
            "Parameter terbaik untuk Decision Tree: {'criterion': 'entropy', 'max_depth': None, 'min_samples_leaf': 4, 'min_samples_split': 10, 'splitter': 'best'}\n",
            "\n",
            "==== Evaluasi Decision Tree (Tuned) pada Data Training ====\n",
            "\n",
            "Classification Report (Data Training):\n",
            "                    precision    recall  f1-score   support\n",
            "\n",
            "               0.0       0.99      0.99      0.99       352\n",
            "               0.2       1.00      1.00      1.00       285\n",
            "               0.4       0.99      0.99      0.99       437\n",
            "0.6000000000000001       1.00      1.00      1.00        68\n",
            "               0.8       1.00      1.00      1.00       533\n",
            "               1.0       1.00      1.00      1.00       179\n",
            "\n",
            "          accuracy                           1.00      1854\n",
            "         macro avg       1.00      1.00      1.00      1854\n",
            "      weighted avg       1.00      1.00      1.00      1854\n",
            "\n"
          ]
        },
        {
          "output_type": "display_data",
          "data": {
            "text/plain": [
              "<Figure size 1000x700 with 1 Axes>"
            ],
            "image/png": "[encoded data removed]"
          },
          "metadata": {}
        },
        {
          "output_type": "stream",
          "name": "stdout",
          "text": [
            "\n",
            "==== Evaluasi Decision Tree (Tuned) pada Data Test ====\n",
            "\n",
            "Classification Report (Data Test):\n",
            "                    precision    recall  f1-score   support\n",
            "\n",
            "               0.0       0.96      0.98      0.97        93\n",
            "               0.2       1.00      1.00      1.00        74\n",
            "               0.4       0.98      0.96      0.97       107\n",
            "0.6000000000000001       1.00      1.00      1.00        16\n",
            "               0.8       1.00      1.00      1.00       115\n",
            "               1.0       1.00      1.00      1.00        59\n",
            "\n",
            "          accuracy                           0.99       464\n",
            "         macro avg       0.99      0.99      0.99       464\n",
            "      weighted avg       0.99      0.99      0.99       464\n",
            "\n"
          ]
        },
        {
          "output_type": "display_data",
          "data": {
            "text/plain": [
              "<Figure size 1000x700 with 1 Axes>"
            ],
            "image/png": "[encoded data removed]"
          },
          "metadata": {}
        }
      ]
    },
    {
      "cell_type": "markdown",
      "source": [
        "Untuk optimasi Decision Tree, saya menggunakan GridSearchCV dengan berbagai kombinasi hyperparameter (criterion, max_depth, dll.) dan validasi silang 5-fold untuk menemukan setelan terbaik berdasarkan akurasi. Model DecisionTreeClassifier kemudian dilatih ulang menggunakan parameter optimal ini.\n",
        "\n",
        "Hasil evaluasi menunjukkan bahwa model yang telah di-tuning mencapai akurasi hampir sempurna (0.99) pada data latih, sedikit di bawah model awal yang 1.00, dengan beberapa misklasifikasi minor seperti terlihat pada classification report dan confusion matrix. Pada data uji, model yang di-tuning ini juga mencapai akurasi 0.99. Penurunan kecil pada performa data latih setelah tuning adalah hal yang diharapkan dan seringkali positif, karena ini mengindikasikan model menjadi kurang kompleks dan berpotensi mengurangi overfitting yang mungkin terjadi pada model awal.\n"
      ],
      "metadata": {
        "id": "I1FcUwcMj1G5"
      }
    },
    {
      "cell_type": "code",
      "source": [
        "param_grid_rf = {\n",
        "    'n_estimators': [100, 200, 300],\n",
        "    'criterion': ['gini', 'entropy'],\n",
        "    'max_depth': [None, 10, 20, 30],\n",
        "    'min_samples_split': [2, 5, 10],\n",
        "    'min_samples_leaf': [1, 2, 4],\n",
        "    'bootstrap': [True, False]\n",
        "}\n",
        "\n",
        "\n",
        "rf_grid_search = GridSearchCV(estimator=RandomForestClassifier(random_state=42),\n",
        "                              param_grid=param_grid_rf,\n",
        "                              cv=3,\n",
        "                              n_jobs=-1,\n",
        "                              verbose=1,\n",
        "                              scoring='accuracy')\n",
        "\n",
        "\n",
        "rf_grid_search.fit(X_train, y_train)\n",
        "\n",
        "\n",
        "best_params_rf = rf_grid_search.best_params_\n",
        "print(f\"Parameter terbaik untuk Random Forest: {best_params_rf}\")\n",
        "\n",
        "\n",
        "tuned_rf = RandomForestClassifier(**best_params_rf, random_state=42)\n",
        "tuned_rf.fit(X_train, y_train)\n",
        "\n",
        "\n",
        "y_pred_train_rf_tuned = tuned_rf.predict(X_train)\n",
        "y_pred_test_rf_tuned = tuned_rf.predict(X_test)\n",
        "\n",
        "\n",
        "print(\"\\n==== Evaluasi Random Forest (Tuned) pada Data Training ====\")\n",
        "cm_train_rf_tuned = confusion_matrix(y_train, y_pred_train_rf_tuned)\n",
        "report_train_rf_tuned = classification_report(y_train, y_pred_train_rf_tuned)\n",
        "print(\"\\nClassification Report (Data Training):\")\n",
        "print(report_train_rf_tuned)\n",
        "\n",
        "plt.figure(figsize=(10, 7))\n",
        "sns.heatmap(cm_train_rf_tuned, annot=True, fmt='d', cmap='Oranges', cbar=False,\n",
        "            xticklabels=tuned_rf.classes_, yticklabels=tuned_rf.classes_)\n",
        "plt.title('Confusion Matrix Random Forest (Tuned) - Data Training')\n",
        "plt.xlabel('Predicted')\n",
        "plt.ylabel('Actual')\n",
        "plt.show()\n",
        "\n",
        "\n",
        "print(\"\\n==== Evaluasi Random Forest (Tuned) pada Data Test ====\")\n",
        "cm_test_rf_tuned = confusion_matrix(y_test, y_pred_test_rf_tuned)\n",
        "report_test_rf_tuned = classification_report(y_test, y_pred_test_rf_tuned)\n",
        "print(\"\\nClassification Report (Data Test):\")\n",
        "print(report_test_rf_tuned)\n",
        "\n",
        "plt.figure(figsize=(10, 7))\n",
        "sns.heatmap(cm_test_rf_tuned, annot=True, fmt='d', cmap='Oranges', cbar=False,\n",
        "            xticklabels=tuned_rf.classes_, yticklabels=tuned_rf.classes_)\n",
        "plt.title('Confusion Matrix Random Forest (Tuned) - Data Test')\n",
        "plt.xlabel('Predicted')\n",
        "plt.ylabel('Actual')\n",
        "plt.show()"
      ],
      "metadata": {
        "id": "RbddqZ3PswmB",
        "colab": {
          "base_uri": "https://localhost:8080/",
          "height": 1000
        },
        "outputId": "d0dd1799-c741-449e-be21-b6e63818991d"
      },
      "execution_count": 15,
      "outputs": [
        {
          "output_type": "stream",
          "name": "stdout",
          "text": [
            "Fitting 3 folds for each of 432 candidates, totalling 1296 fits\n",
            "Parameter terbaik untuk Random Forest: {'bootstrap': True, 'criterion': 'gini', 'max_depth': 10, 'min_samples_leaf': 1, 'min_samples_split': 2, 'n_estimators': 200}\n",
            "\n",
            "==== Evaluasi Random Forest (Tuned) pada Data Training ====\n",
            "\n",
            "Classification Report (Data Training):\n",
            "                    precision    recall  f1-score   support\n",
            "\n",
            "               0.0       1.00      1.00      1.00       352\n",
            "               0.2       1.00      1.00      1.00       285\n",
            "               0.4       1.00      1.00      1.00       437\n",
            "0.6000000000000001       1.00      1.00      1.00        68\n",
            "               0.8       1.00      1.00      1.00       533\n",
            "               1.0       1.00      1.00      1.00       179\n",
            "\n",
            "          accuracy                           1.00      1854\n",
            "         macro avg       1.00      1.00      1.00      1854\n",
            "      weighted avg       1.00      1.00      1.00      1854\n",
            "\n"
          ]
        },
        {
          "output_type": "display_data",
          "data": {
            "text/plain": [
              "<Figure size 1000x700 with 1 Axes>"
            ],
            "image/png": "[encoded data removed]"
          },
          "metadata": {}
        },
        {
          "output_type": "stream",
          "name": "stdout",
          "text": [
            "\n",
            "==== Evaluasi Random Forest (Tuned) pada Data Test ====\n",
            "\n",
            "Classification Report (Data Test):\n",
            "                    precision    recall  f1-score   support\n",
            "\n",
            "               0.0       0.99      0.95      0.97        93\n",
            "               0.2       1.00      1.00      1.00        74\n",
            "               0.4       0.96      0.99      0.98       107\n",
            "0.6000000000000001       1.00      1.00      1.00        16\n",
            "               0.8       0.99      1.00      1.00       115\n",
            "               1.0       1.00      1.00      1.00        59\n",
            "\n",
            "          accuracy                           0.99       464\n",
            "         macro avg       0.99      0.99      0.99       464\n",
            "      weighted avg       0.99      0.99      0.99       464\n",
            "\n"
          ]
        },
        {
          "output_type": "display_data",
          "data": {
            "text/plain": [
              "<Figure size 1000x700 with 1 Axes>"
            ],
            "image/png": "[encoded data removed]"
          },
          "metadata": {}
        }
      ]
    },
    {
      "cell_type": "markdown",
      "source": [
        "saya melakukan hyperparameter tuning untuk Random Forest menggunakan GridSearchCV dengan berbagai parameter seperti n_estimators dan max_depth, menggunakan validasi silang 3-fold. Setelah menemukan parameter terbaik, saya melatih ulang model Random Forest (tuned_rf). Kemudian, saya akan mengevaluasi performa model yang sudah di-tuning ini pada data latih dan data uji menggunakan classification report dan confusion matrix. Jika model Random Forest awal (sebelum tuning) sudah memberikan akurasi yang sangat tinggi pada data uji dan tidak overfit, maka proses tuning yang ekstensif mungkin tidak diperlukan, terutama jika hasilnya justru menurunkan akurasi pada data uji, karena bisa jadi parameter default sudah cukup optimal atau proses tuning mengarah pada solusi yang kurang general."
      ],
      "metadata": {
        "id": "v_FN-f3GkeNE"
      }
    },
    {
      "cell_type": "code",
      "source": [
        "import joblib\n",
        "joblib.dump(tuned_rf, 'tuning_rf_classification.h5')"
      ],
      "metadata": {
        "id": "7UJNcVP--n7S",
        "colab": {
          "base_uri": "https://localhost:8080/"
        },
        "outputId": "c5496292-f91b-4bb7-defd-074faf9cbc63"
      },
      "execution_count": 16,
      "outputs": [
        {
          "output_type": "execute_result",
          "data": {
            "text/plain": [
              "['tuning_rf_classification.h5']"
            ]
          },
          "metadata": {},
          "execution_count": 16
        }
      ]
    },
    {
      "cell_type": "markdown",
      "source": [
        "Untuk menyimpan model Random Forest yang sudah di-tuning, saya menggunakan joblib.dump(tuned_rf, 'tuning_rf_classification.h5'). Ini akan menyimpan objek model tuned_rf ke dalam file tuning_rf_classification.h5."
      ],
      "metadata": {
        "id": "JJqFJfIekpYc"
      }
    },
    {
      "cell_type": "code",
      "source": [
        "import joblib\n",
        "joblib.dump(tuned_dt, 'tuning_dt_classification.h5')"
      ],
      "metadata": {
        "id": "d0IK5kbnvdci",
        "colab": {
          "base_uri": "https://localhost:8080/"
        },
        "outputId": "83302908-0377-4ec1-a12e-9ad5ef7e0467"
      },
      "execution_count": 17,
      "outputs": [
        {
          "output_type": "execute_result",
          "data": {
            "text/plain": [
              "['tuning_dt_classification.h5']"
            ]
          },
          "metadata": {},
          "execution_count": 17
        }
      ]
    },
    {
      "cell_type": "markdown",
      "source": [
        "Selanjutnya, untuk model Decision Tree yang juga sudah di-tuning, saya menggunakan perintah joblib.dump(tuned_dt, 'tuning_dt_classification.h5') untuk menyimpan objek model tuned_dt ke file tuning_dt_classification.h5."
      ],
      "metadata": {
        "id": "aMa8DDH9kt3P"
      }
    }
  ]
}